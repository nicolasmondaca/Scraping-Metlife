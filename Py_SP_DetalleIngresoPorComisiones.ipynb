{
 "cells": [
  {
   "cell_type": "code",
   "execution_count": 1,
   "metadata": {},
   "outputs": [],
   "source": [
    "import pyodbc\n",
    "import subprocess\n",
    "import os\n",
    "import shutil\n",
    "import pandas as pd\n",
    "import csv\n",
    "from getpass import getuser\n",
    "from selenium import webdriver\n",
    "from selenium.webdriver.common.keys import Keys\n",
    "from selenium.webdriver.common.by import By"
   ]
  },
  {
   "cell_type": "code",
   "execution_count": 18,
   "metadata": {},
   "outputs": [],
   "source": [
    "driver = webdriver.Edge()\n",
    "driver.get(\"https://www.spensiones.cl/apps/centroEstadisticas/paginaCuadrosCCEE.php?menu=sci&menuN1=estfinafp&menuN2=NOID\")\n"
   ]
  },
  {
   "cell_type": "code",
   "execution_count": 19,
   "metadata": {},
   "outputs": [],
   "source": [
    "driver.find_element(By.XPATH, \"/html/body/div[2]/div/div[3]/div/div/form/table/tbody/tr[3]/td[3]/input\").click()"
   ]
  },
  {
   "cell_type": "code",
   "execution_count": 20,
   "metadata": {},
   "outputs": [],
   "source": [
    "driver.find_element(By.XPATH, \"/html/body/div[4]/div/div[2]/div/div[2]/div[2]/div[2]/div/div/table/tbody/tr[8]/td[2]/a\").click()"
   ]
  },
  {
   "cell_type": "code",
   "execution_count": 28,
   "metadata": {},
   "outputs": [
    {
     "ename": "NoSuchElementException",
     "evalue": "Message: no such element: Unable to locate element: {\"method\":\"xpath\",\"selector\":\"/html/body/div[4]/div/div[2]/div/div[2]/div[2]/div/table[2]/tbody\"}\n  (Session info: MicrosoftEdge=111.0.1661.54)\nStacktrace:\nBacktrace:\n\tMicrosoft::Applications::Events::EventProperties::SetProperty [0x00007FF64AB7A5C2+12658]\n\tMicrosoft::Applications::Events::EventProperty::EventProperty [0x00007FF64AB12862+747634]\n\t(No symbol) [0x00007FF64A7ADD2E]\n\t(No symbol) [0x00007FF64A7EFB49]\n\t(No symbol) [0x00007FF64A7EFCD0]\n\t(No symbol) [0x00007FF64A82B4B7]\n\t(No symbol) [0x00007FF64A80F42F]\n\t(No symbol) [0x00007FF64A7E2791]\n\t(No symbol) [0x00007FF64A82874C]\n\t(No symbol) [0x00007FF64A80F1C3]\n\t(No symbol) [0x00007FF64A7E17D6]\n\t(No symbol) [0x00007FF64A7E09B5]\n\t(No symbol) [0x00007FF64A7E1F44]\n\tMicrosoft::Applications::Events::EventProperties::SetProperty [0x00007FF64AA25530+147088]\n\t(No symbol) [0x00007FF64A8C91A6]\n\tMicrosoft::Applications::Events::EventProperty::EventProperty [0x00007FF64AA64497+33959]\n\tMicrosoft::Applications::Events::EventProperty::EventProperty [0x00007FF64AA67F65+49013]\n\tMicrosoft::Applications::Events::ILogManager::DispatchEventBroadcast [0x00007FF64AD59933+1305299]\n\tMicrosoft::Applications::Events::EventProperty::EventProperty [0x00007FF64AB1AE1C+781868]\n\tMicrosoft::Applications::Events::EventProperty::EventProperty [0x00007FF64AB20344+803668]\n\tMicrosoft::Applications::Events::EventProperty::EventProperty [0x00007FF64AB2049C+804012]\n\tMicrosoft::Applications::Events::EventProperty::EventProperty [0x00007FF64AB285A1+837041]\n\tBaseThreadInitThunk [0x00007FFD481C26BD+29]\n\tRtlUserThreadStart [0x00007FFD49AAA9F8+40]\n",
     "output_type": "error",
     "traceback": [
      "\u001b[1;31m---------------------------------------------------------------------------\u001b[0m",
      "\u001b[1;31mNoSuchElementException\u001b[0m                    Traceback (most recent call last)",
      "Cell \u001b[1;32mIn[28], line 1\u001b[0m\n\u001b[1;32m----> 1\u001b[0m tbody \u001b[39m=\u001b[39m driver\u001b[39m.\u001b[39;49mfind_element(By\u001b[39m.\u001b[39;49mXPATH, \u001b[39m\"\u001b[39;49m\u001b[39m/html/body/div[4]/div/div[2]/div/div[2]/div[2]/div/table[2]/tbody\u001b[39;49m\u001b[39m\"\u001b[39;49m)\n\u001b[0;32m      2\u001b[0m data \u001b[39m=\u001b[39m []\n\u001b[0;32m      3\u001b[0m \u001b[39mfor\u001b[39;00m td \u001b[39min\u001b[39;00m tbody\u001b[39m.\u001b[39mfind_elements(By\u001b[39m.\u001b[39mXPATH, \u001b[39m\"\u001b[39m\u001b[39m//tr[1]\u001b[39m\u001b[39m\"\u001b[39m):\n",
      "File \u001b[1;32mc:\\Users\\nicol\\AppData\\Local\\Programs\\Python\\Python311\\Lib\\site-packages\\selenium\\webdriver\\remote\\webdriver.py:830\u001b[0m, in \u001b[0;36mWebDriver.find_element\u001b[1;34m(self, by, value)\u001b[0m\n\u001b[0;32m    827\u001b[0m     by \u001b[39m=\u001b[39m By\u001b[39m.\u001b[39mCSS_SELECTOR\n\u001b[0;32m    828\u001b[0m     value \u001b[39m=\u001b[39m \u001b[39mf\u001b[39m\u001b[39m'\u001b[39m\u001b[39m[name=\u001b[39m\u001b[39m\"\u001b[39m\u001b[39m{\u001b[39;00mvalue\u001b[39m}\u001b[39;00m\u001b[39m\"\u001b[39m\u001b[39m]\u001b[39m\u001b[39m'\u001b[39m\n\u001b[1;32m--> 830\u001b[0m \u001b[39mreturn\u001b[39;00m \u001b[39mself\u001b[39;49m\u001b[39m.\u001b[39;49mexecute(Command\u001b[39m.\u001b[39;49mFIND_ELEMENT, {\u001b[39m\"\u001b[39;49m\u001b[39musing\u001b[39;49m\u001b[39m\"\u001b[39;49m: by, \u001b[39m\"\u001b[39;49m\u001b[39mvalue\u001b[39;49m\u001b[39m\"\u001b[39;49m: value})[\u001b[39m\"\u001b[39m\u001b[39mvalue\u001b[39m\u001b[39m\"\u001b[39m]\n",
      "File \u001b[1;32mc:\\Users\\nicol\\AppData\\Local\\Programs\\Python\\Python311\\Lib\\site-packages\\selenium\\webdriver\\remote\\webdriver.py:440\u001b[0m, in \u001b[0;36mWebDriver.execute\u001b[1;34m(self, driver_command, params)\u001b[0m\n\u001b[0;32m    438\u001b[0m response \u001b[39m=\u001b[39m \u001b[39mself\u001b[39m\u001b[39m.\u001b[39mcommand_executor\u001b[39m.\u001b[39mexecute(driver_command, params)\n\u001b[0;32m    439\u001b[0m \u001b[39mif\u001b[39;00m response:\n\u001b[1;32m--> 440\u001b[0m     \u001b[39mself\u001b[39;49m\u001b[39m.\u001b[39;49merror_handler\u001b[39m.\u001b[39;49mcheck_response(response)\n\u001b[0;32m    441\u001b[0m     response[\u001b[39m\"\u001b[39m\u001b[39mvalue\u001b[39m\u001b[39m\"\u001b[39m] \u001b[39m=\u001b[39m \u001b[39mself\u001b[39m\u001b[39m.\u001b[39m_unwrap_value(response\u001b[39m.\u001b[39mget(\u001b[39m\"\u001b[39m\u001b[39mvalue\u001b[39m\u001b[39m\"\u001b[39m, \u001b[39mNone\u001b[39;00m))\n\u001b[0;32m    442\u001b[0m     \u001b[39mreturn\u001b[39;00m response\n",
      "File \u001b[1;32mc:\\Users\\nicol\\AppData\\Local\\Programs\\Python\\Python311\\Lib\\site-packages\\selenium\\webdriver\\remote\\errorhandler.py:245\u001b[0m, in \u001b[0;36mErrorHandler.check_response\u001b[1;34m(self, response)\u001b[0m\n\u001b[0;32m    243\u001b[0m         alert_text \u001b[39m=\u001b[39m value[\u001b[39m\"\u001b[39m\u001b[39malert\u001b[39m\u001b[39m\"\u001b[39m]\u001b[39m.\u001b[39mget(\u001b[39m\"\u001b[39m\u001b[39mtext\u001b[39m\u001b[39m\"\u001b[39m)\n\u001b[0;32m    244\u001b[0m     \u001b[39mraise\u001b[39;00m exception_class(message, screen, stacktrace, alert_text)  \u001b[39m# type: ignore[call-arg]  # mypy is not smart enough here\u001b[39;00m\n\u001b[1;32m--> 245\u001b[0m \u001b[39mraise\u001b[39;00m exception_class(message, screen, stacktrace)\n",
      "\u001b[1;31mNoSuchElementException\u001b[0m: Message: no such element: Unable to locate element: {\"method\":\"xpath\",\"selector\":\"/html/body/div[4]/div/div[2]/div/div[2]/div[2]/div/table[2]/tbody\"}\n  (Session info: MicrosoftEdge=111.0.1661.54)\nStacktrace:\nBacktrace:\n\tMicrosoft::Applications::Events::EventProperties::SetProperty [0x00007FF64AB7A5C2+12658]\n\tMicrosoft::Applications::Events::EventProperty::EventProperty [0x00007FF64AB12862+747634]\n\t(No symbol) [0x00007FF64A7ADD2E]\n\t(No symbol) [0x00007FF64A7EFB49]\n\t(No symbol) [0x00007FF64A7EFCD0]\n\t(No symbol) [0x00007FF64A82B4B7]\n\t(No symbol) [0x00007FF64A80F42F]\n\t(No symbol) [0x00007FF64A7E2791]\n\t(No symbol) [0x00007FF64A82874C]\n\t(No symbol) [0x00007FF64A80F1C3]\n\t(No symbol) [0x00007FF64A7E17D6]\n\t(No symbol) [0x00007FF64A7E09B5]\n\t(No symbol) [0x00007FF64A7E1F44]\n\tMicrosoft::Applications::Events::EventProperties::SetProperty [0x00007FF64AA25530+147088]\n\t(No symbol) [0x00007FF64A8C91A6]\n\tMicrosoft::Applications::Events::EventProperty::EventProperty [0x00007FF64AA64497+33959]\n\tMicrosoft::Applications::Events::EventProperty::EventProperty [0x00007FF64AA67F65+49013]\n\tMicrosoft::Applications::Events::ILogManager::DispatchEventBroadcast [0x00007FF64AD59933+1305299]\n\tMicrosoft::Applications::Events::EventProperty::EventProperty [0x00007FF64AB1AE1C+781868]\n\tMicrosoft::Applications::Events::EventProperty::EventProperty [0x00007FF64AB20344+803668]\n\tMicrosoft::Applications::Events::EventProperty::EventProperty [0x00007FF64AB2049C+804012]\n\tMicrosoft::Applications::Events::EventProperty::EventProperty [0x00007FF64AB285A1+837041]\n\tBaseThreadInitThunk [0x00007FFD481C26BD+29]\n\tRtlUserThreadStart [0x00007FFD49AAA9F8+40]\n"
     ]
    }
   ],
   "source": [
    "input_year = 1\n",
    "input_month = 2\n",
    "\n",
    "tbody = driver.find_element(By.XPATH, \"/html/body/div[4]/div/div[2]/div/div[2]/div[2]/div/table[2]/tbody\")\n",
    "data = []\n",
    "for td in tbody.find_elements(By.XPATH, \"//tr[1]\"):\n",
    "    row = [i.text.replace(\".\",\"\") for i in td.find_elements(By.TAG_NAME, \"td\")]\n",
    "    data.append(row)\n",
    "\n",
    "print(data)\n",
    "\n",
    "user_id = getuser()"
   ]
  },
  {
   "cell_type": "code",
   "execution_count": null,
   "metadata": {},
   "outputs": [],
   "source": [
    "Ruta = r'C:/Users/{}/Metlife/Sharepoint Chile Seguros - PLANNING/Bases/Cloud/Archivos/Entrada/DtPb_SP_DetalleIngresoPorComisiones/{}.csv'.format(user_id,input_year+input_month)\n",
    "\n",
    "with open (Ruta, 'a', newline = \"\") as csv_file:\n",
    "    writer = csv.writer(csv_file, delimiter = \";\")\n",
    "    writer.writerows(data)"
   ]
  },
  {
   "cell_type": "code",
   "execution_count": null,
   "metadata": {},
   "outputs": [],
   "source": [
    "project_id = 'v13513clinsfindataczprod00001'\n",
    "dataset_id = 'bgqbi_finance001'\n",
    "table_id = 'DtPb_SP_DetalleIngresoPorComisiones'\n",
    "leading_rows = 0\n",
    "field_delimiter = \";\"\n",
    "repl_carga = \"false\"\n",
    "estruc_json = r'C:/Users/{}/Metlife/Sharepoint Chile Seguros - PLANNING/Bases/Cloud/Estructuras/{}.json'.format(user_id,table_id)\n",
    "local_path_input = r'C:/Users/{}/Metlife/Sharepoint Chile Seguros - PLANNING/Bases/Cloud/Archivos/Entrada/'.format(user_id)\n",
    "local_path_done = r'C:/Users/{}/Metlife/Sharepoint Chile Seguros - PLANNING/Bases/Cloud/Archivos/Procesado/'.format(user_id)\n",
    "local_path_root = r'C:/temp'\n",
    "local_file = \"\"\n",
    "local_file_root = \"\"\n",
    "\n",
    "shutil.copy(estruc_json,r'{}{}.json'.format(local_path_root,table_id))\n",
    "\n",
    "str_acceso = \"gcloud auth login\"\n",
    "process = subprocess.run(str_acceso, shell = True, capture_output = True)\n",
    "returncode = (process.returncode)\n",
    "mensaje = str(process.stdout)+str(process.stderr)\n",
    "print(returncode,mensaje.replace('\\\\','/'))\n",
    "\n",
    "local_path = r'{}{}/'.format(local_path_input,table_id)\n",
    "for file in os.listdir(local_path):\n",
    "    print(file)\n",
    "\n",
    "    local_file_root = r'{}{}'.format(local_path_root,file)\n",
    "    local_file = r'{}{}'.format(local_path,file)\n",
    "    local_path_done = r'{}{}/{}'.format(local_path_done,table_id,file)\n",
    "\n",
    "    shutil.copy(local_file,local_file_root)\n",
    "\n",
    "    gs_path = r'gs://strczclinsfin001/Inputs/{}/{}'.format(table_id,file)\n",
    "\n",
    "    carga_storage = 'gsutil cp {} {}'.format(local_file_root,gs_path)\n",
    "    process = subprocess.run(carga_storage, shell = True, capture_output = True)\n",
    "    returncode = (process.returncode)\n",
    "    mensaje = str(process.stdout)+str(process.stderr)\n",
    "\n",
    "    carga_bq = 'bq load --skip_leading_rows={} --field_delimiter=\"{}\" --replace={} {}.{} {} {}'.format(leading_rows,field_delimiter,repl_carga,dataset_id,table_id,gs_path,r'{}{}.json'.format(local_path_root,table_id))\n",
    "    process = subprocess.run(carga_bq, shell = True, capture_output = True)\n",
    "    returncode = (process.returncode)\n",
    "    mensaje = str(process.stdout)+str(process.stderr)\n",
    "    print(returncode,mensaje.replace('\\\\','/'))\n",
    "\n",
    "    os.remove(local_file_root)\n",
    "    shutil.move(local_file,local_path_done)\n",
    "\n",
    "os.remove(r'{}{}.json'.format(local_path_root,table_id))"
   ]
  }
 ],
 "metadata": {
  "kernelspec": {
   "display_name": "Python 3",
   "language": "python",
   "name": "python3"
  },
  "language_info": {
   "codemirror_mode": {
    "name": "ipython",
    "version": 3
   },
   "file_extension": ".py",
   "mimetype": "text/x-python",
   "name": "python",
   "nbconvert_exporter": "python",
   "pygments_lexer": "ipython3",
   "version": "3.11.2"
  },
  "orig_nbformat": 4
 },
 "nbformat": 4,
 "nbformat_minor": 2
}
