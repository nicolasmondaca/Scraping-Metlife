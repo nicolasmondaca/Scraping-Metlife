{
 "cells": [
  {
   "cell_type": "code",
   "execution_count": 1,
   "metadata": {},
   "outputs": [],
   "source": [
    "import pyodbc\n",
    "import subprocess\n",
    "import os\n",
    "import shutil\n",
    "import pandas as pd\n",
    "import csv\n",
    "from getpass import getuser\n",
    "from selenium import webdriver\n",
    "from selenium.webdriver.common.keys import Keys\n",
    "from selenium.webdriver.common.by import By"
   ]
  },
  {
   "cell_type": "code",
   "execution_count": 13,
   "metadata": {},
   "outputs": [],
   "source": [
    "driver = webdriver.Edge()\n",
    "driver.get(\"https://www.spensiones.cl/apps/centroEstadisticas/paginaCuadrosCCEE.php?menu=sci&menuN1=afil&menuN2=afp\")"
   ]
  },
  {
   "cell_type": "code",
   "execution_count": 14,
   "metadata": {},
   "outputs": [],
   "source": [
    "driver.find_element(By.XPATH, \"/html/body/div[2]/div/div[3]/div/div/form/table/tbody/tr[2]/td[3]/input\").click()\n"
   ]
  },
  {
   "cell_type": "code",
   "execution_count": null,
   "metadata": {},
   "outputs": [],
   "source": [
    "dato1 = driver.find_element(By.XPATH, \"/html/body/div[4]/div/div[2]/div/div[2]/div[2]/div//table/tbody/tr\").text\n",
    "dato2 = driver.find_element(By.XPATH, \"/html/body/div[4]/div/div[2]/div/div[2]/div[2]/div//table/tbody/tr[2]\").text\n",
    "dato3 = driver.find_element(By.XPATH, \"/html/body/div[4]/div/div[2]/div/div[2]/div[2]/div//table/tbody/tr[3]\").text\n",
    "dato4 = driver.find_element(By.XPATH, \"/html/body/div[4]/div/div[2]/div/div[2]/div[2]/div//table/tbody/tr[28]\").text\n",
    "dato5 = driver.find_element(By.XPATH, \"/html/body/div[4]/div/div[2]/div/div[2]/div[2]/div//table/tbody/tr[45]\").text\n",
    "print(dato1)\n",
    "print(dato2)\n",
    "print(dato3)\n",
    "print(dato4)\n",
    "print(dato5)\n"
   ]
  },
  {
   "cell_type": "code",
   "execution_count": null,
   "metadata": {},
   "outputs": [],
   "source": [
    "input_year = 1\n",
    "input_month = 2\n",
    "\n",
    "tbody = driver.find_element(By.XPATH, \"/html/body/div[4]/div/div[2]/div/div[2]/div[2]/div//table\")\n",
    "data = []\n",
    "for td in tbody.find_elements(By.XPATH, \"//tr[1]\"):\n",
    "    row = [i.text for i in td.find_elements(By.TAG_NAME, \"th\")]\n",
    "    row.insert(0, \"AFP\")\n",
    "    data.append(row)\n",
    "for td in tbody.find_elements(By.XPATH, \"//tr[2]\"):\n",
    "    row = [i.text.replace(\".\",\"\") for i in td.find_elements(By.TAG_NAME, \"td\")]\n",
    "    data.append(row)\n",
    "for td in tbody.find_elements(By.XPATH, \"//tr[3]\"):\n",
    "    row = [i.text.replace(\".\",\"\") for i in td.find_elements(By.TAG_NAME, \"td\")]\n",
    "    data.append(row)\n",
    "for td in tbody.find_elements(By.XPATH, \"//tr[28]\"):\n",
    "    row = [i.text.replace(\".\",\"\") for i in td.find_elements(By.TAG_NAME, \"td\")]\n",
    "    data.append(row)\n",
    "for td in tbody.find_elements(By.XPATH, \"//tr[45]\"):\n",
    "    row = [i.text.replace(\".\",\"\") for i in td.find_elements(By.TAG_NAME, \"td\")]\n",
    "    data.append(row)\n",
    "\n",
    "print(data)\n",
    "\n",
    "user_id = getuser()"
   ]
  },
  {
   "cell_type": "code",
   "execution_count": null,
   "metadata": {},
   "outputs": [],
   "source": [
    "Ruta = r'C:/Users/{}/Metlife/Sharepoint Chile Seguros - PLANNING/Bases/Cloud/Archivos/Entrada/DtPb_SP_VariacionNroAfiliados/{}.csv'.format(user_id,input_year+input_month)\n",
    "\n",
    "with open (Ruta, 'a', newline = \"\") as csv_file:\n",
    "    writer = csv.writer(csv_file, delimiter = \";\")\n",
    "    writer.writerows(data)"
   ]
  },
  {
   "cell_type": "code",
   "execution_count": null,
   "metadata": {},
   "outputs": [],
   "source": [
    "project_id = 'v13513clinsfindataczprod00001'\n",
    "dataset_id = 'bgqbi_finance001'\n",
    "table_id = 'DtPb_SP_VariacionNroAfiliados'\n",
    "leading_rows = 0\n",
    "field_delimiter = \";\"\n",
    "repl_carga = \"false\"\n",
    "estruc_json = r'C:/Users/{}/Metlife/Sharepoint Chile Seguros - PLANNING/Bases/Cloud/Estructuras/{}.json'.format(user_id,table_id)\n",
    "local_path_input = r'C:/Users/{}/Metlife/Sharepoint Chile Seguros - PLANNING/Bases/Cloud/Archivos/Entrada/'.format(user_id)\n",
    "local_path_done = r'C:/Users/{}/Metlife/Sharepoint Chile Seguros - PLANNING/Bases/Cloud/Archivos/Procesado/'.format(user_id)\n",
    "local_path_root = r'C:/temp'\n",
    "local_file = \"\"\n",
    "local_file_root = \"\"\n",
    "\n",
    "shutil.copy(estruc_json,r'{}{}.json'.format(local_path_root,table_id))\n",
    "\n",
    "str_acceso = \"gcloud auth login\"\n",
    "process = subprocess.run(str_acceso, shell = True, capture_output = True)\n",
    "returncode = (process.returncode)\n",
    "mensaje = str(process.stdout)+str(process.stderr)\n",
    "print(returncode,mensaje.replace('\\\\','/'))\n",
    "\n",
    "local_path = r'{}{}/'.format(local_path_input,table_id)\n",
    "for file in os.listdir(local_path):\n",
    "    print(file)\n",
    "\n",
    "    local_file_root = r'{}{}'.format(local_path_root,file)\n",
    "    local_file = r'{}{}'.format(local_path,file)\n",
    "    local_path_done = r'{}{}/{}'.format(local_path_done,table_id,file)\n",
    "\n",
    "    shutil.copy(local_file,local_file_root)\n",
    "\n",
    "    gs_path = r'gs://strczclinsfin001/Inputs/{}/{}'.format(table_id,file)\n",
    "\n",
    "    carga_storage = 'gsutil cp {} {}'.format(local_file_root,gs_path)\n",
    "    process = subprocess.run(carga_storage, shell = True, capture_output = True)\n",
    "    returncode = (process.returncode)\n",
    "    mensaje = str(process.stdout)+str(process.stderr)\n",
    "\n",
    "    carga_bq = 'bq load --skip_leading_rows={} --field_delimiter=\"{}\" --replace={} {}.{} {} {}'.format(leading_rows,field_delimiter,repl_carga,dataset_id,table_id,gs_path,r'{}{}.json'.format(local_path_root,table_id))\n",
    "    process = subprocess.run(carga_bq, shell = True, capture_output = True)\n",
    "    returncode = (process.returncode)\n",
    "    mensaje = str(process.stdout)+str(process.stderr)\n",
    "    print(returncode,mensaje.replace('\\\\','/'))\n",
    "\n",
    "    os.remove(local_file_root)\n",
    "    shutil.move(local_file,local_path_done)\n",
    "\n",
    "os.remove(r'{}{}.json'.format(local_path_root,table_id))"
   ]
  }
 ],
 "metadata": {
  "kernelspec": {
   "display_name": "Python 3",
   "language": "python",
   "name": "python3"
  },
  "language_info": {
   "codemirror_mode": {
    "name": "ipython",
    "version": 3
   },
   "file_extension": ".py",
   "mimetype": "text/x-python",
   "name": "python",
   "nbconvert_exporter": "python",
   "pygments_lexer": "ipython3",
   "version": "3.11.2"
  },
  "orig_nbformat": 4
 },
 "nbformat": 4,
 "nbformat_minor": 2
}
